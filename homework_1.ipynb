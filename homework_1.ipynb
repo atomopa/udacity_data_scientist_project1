{
  "metadata": {
    "language_info": {
      "codemirror_mode": {
        "name": "python",
        "version": 3
      },
      "file_extension": ".py",
      "mimetype": "text/x-python",
      "name": "python",
      "nbconvert_exporter": "python",
      "pygments_lexer": "ipython3",
      "version": "3.8"
    },
    "kernelspec": {
      "name": "python",
      "display_name": "Python (Pyodide)",
      "language": "python"
    },
    "colab": {
      "provenance": []
    }
  },
  "nbformat_minor": 0,
  "nbformat": 4,
  "cells": [
    {
      "cell_type": "markdown",
      "source": [
        "#Project: Write a Data Science Blog Post"
      ],
      "metadata": {
        "id": "ru2Bm1FCHOLW"
      }
    },
    {
      "cell_type": "markdown",
      "source": [
        "#Section 1: Business Understanding\n",
        "\n",
        "This contains the code for homework 1 in the Udacity Data Scientist Nano Degree. The motivation behind this is to pass the course. As such I decided to look at the provided data sets of airbnb listing data in Bosten and Seattle to answer the following questions:\n",
        "\n",
        "**Question 1**: What is the correlation between the following values: 'price', 'cleaning_fee', 'review_scores_location', 'review_scores_value', 'accommodates', 'bathrooms', 'bedrooms'?\n",
        "\n",
        "**Question 2**: Which of the following variables has the strongest correlation with the listing price: 'room_type', 'accommodates', 'bathrooms', 'bedrooms', 'host_is_superhost', 'beds', 'bed_type', 'cleaning_fee', 'cancellation_policy', 'review_scores_value', 'review_scores_location', 'host_identity_verified?'\n",
        "\n",
        "**Question 3**: Compare the results of questions 1 and 2 between Bosten and Seattle to look for interesting similarities/differences?"
      ],
      "metadata": {
        "id": "b3cQQoqOHULl"
      }
    },
    {
      "cell_type": "markdown",
      "source": [
        "#Section 2: Data Understanding"
      ],
      "metadata": {
        "id": "TPtUTnFLfN6A"
      }
    },
    {
      "cell_type": "markdown",
      "source": [
        "Import the needed packages for this code"
      ],
      "metadata": {
        "id": "4xzDshRWfhvD"
      }
    },
    {
      "cell_type": "code",
      "source": [
        "# read in needed packages\n",
        "# import warnings\n",
        "# warnings.simplefilter(action='ignore')\n",
        "\n",
        "import numpy as np\n",
        "import pandas as pd\n",
        "import matplotlib.pyplot as plt\n",
        "from sklearn.linear_model import LinearRegression\n",
        "from sklearn.model_selection import train_test_split\n",
        "from sklearn.metrics import r2_score, mean_squared_error\n",
        "import AllTogether as t\n",
        "import seaborn as sns\n",
        "%matplotlib inline"
      ],
      "metadata": {
        "id": "-MdCKxiYfgrC"
      },
      "execution_count": null,
      "outputs": []
    },
    {
      "cell_type": "markdown",
      "source": [
        "Load the datasets and take a look at their shape to verify."
      ],
      "metadata": {
        "id": "X2CaP8s2fwX6"
      }
    },
    {
      "cell_type": "code",
      "source": [
        "df_boston = pd.read_csv('./boston/listings.csv')\n",
        "df_seattle = pd.read_csv('./seattle/listings.csv')\n",
        "\n",
        "df_boston.shape\n",
        "df_seattle.shape"
      ],
      "metadata": {
        "id": "TNhLay8Zf5C6"
      },
      "execution_count": null,
      "outputs": []
    },
    {
      "cell_type": "markdown",
      "source": [
        "#Section 3: Data Preparation\n",
        "\n",
        "The following function extracts the columns to be used for this project. Furthermore, it manipulates certain columns to allow for the conversion of that columns data type."
      ],
      "metadata": {
        "id": "1kEHdR6HOgXY"
      }
    },
    {
      "cell_type": "code",
      "source": [
        "# function to extract columns to be used for this project and drop rows with NAN values\n",
        "def reduce_and_convert(df):\n",
        "  \n",
        "    # extract the columns by column name\n",
        "    df = df[['room_type', 'accommodates', 'bathrooms', 'bedrooms', 'host_is_superhost',\n",
        "             'beds', 'bed_type', 'price', 'cleaning_fee', 'cancellation_policy',\n",
        "             'review_scores_value', 'review_scores_location', 'host_identity_verified']]\n",
        "\n",
        "    # replace certain characters to allow for data type conversion\n",
        "    df['price'] = df['price'].str.replace('$','')\n",
        "    df['price'] = df['price'].str.replace(',','')\n",
        "    df['cleaning_fee'] = df['cleaning_fee'].str.replace('$','')\n",
        "    df['cleaning_fee'] = df['cleaning_fee'].str.replace(',','')\n",
        "    df['host_is_superhost'].map({'t': True, 'f': False})\n",
        "    df['host_identity_verified'].map({'t': True, 'f': False})\n",
        "\n",
        "    # convert data types for certain columns so they are not categorical anymore\n",
        "    df = df.astype({'price':'float'})\n",
        "    df = df.astype({'cleaning_fee':'float'})\n",
        "    df = df.astype({'host_is_superhost':'bool'})\n",
        "    df = df.astype({'host_identity_verified':'bool'})\n",
        "\n",
        "    return df\n",
        "\n",
        "df_boston = reduce_and_convert(df_boston)\n",
        "df_seattle = reduce_and_convert(df_seattle)"
      ],
      "metadata": {
        "id": "dHrP_fU7HDul"
      },
      "execution_count": null,
      "outputs": []
    },
    {
      "cell_type": "markdown",
      "source": [
        "Further data preparation is needed so this function is used to drop rows with NAN values and convert categorical columns into ones that can be used by our model. Alternatively to dropping rows we could fill NAN values with the mean etc. however for this project we decided against this."
      ],
      "metadata": {
        "id": "hNt9RX8bOkVc"
      }
    },
    {
      "cell_type": "code",
      "source": [
        "# convert categorical columns and drop rows containing nan\n",
        "def add_mean_and_dumnmy(df):\n",
        "  \n",
        "    # empty cleaning fee assumed to mean no cleaning fee\n",
        "    df['cleaning_fee'] = df['cleaning_fee'].fillna(0.0)\n",
        "\n",
        "    # drop any rows with NAN entries\n",
        "    df = df.dropna(axis=0)\n",
        "\n",
        "    # get column names of categorical columns\n",
        "    cat_vars = df.select_dtypes(include=['object']).columns\n",
        "\n",
        "    # convert categorical columns column by column\n",
        "    for var in cat_vars:\n",
        "        df = pd.concat([df.drop(var, axis=1), pd.get_dummies(df[var], prefix=var, prefix_sep='_', drop_first=True)],\n",
        "                       axis=1)\n",
        "\n",
        "    return df\n",
        "\n",
        "df_boston = add_mean_and_dumnmy(df_boston)\n",
        "df_seattle = add_mean_and_dumnmy(df_seattle)"
      ],
      "metadata": {
        "id": "3wEfsyZJHDus"
      },
      "execution_count": null,
      "outputs": []
    },
    {
      "cell_type": "markdown",
      "source": [
        "#Section 4: Data Modeling \n",
        "\n",
        "Here we fit a linear regression model using Udacity provided code."
      ],
      "metadata": {
        "id": "f7XPS2pSOmbs"
      }
    },
    {
      "cell_type": "code",
      "source": [
        "def train_model(df):\n",
        "    # split data into X and y\n",
        "    X = df.drop(['price'], axis=1)\n",
        "    y = df['price']\n",
        "    \n",
        "    # use udacity data scientist provided code to train the model and search for optimal model\n",
        "    cutoffs = [5000, 3500, 2500, 1000, 100, 50]\n",
        "    r2_scores_test, r2_scores_train, lm_model, X_train, X_test, y_train, y_test = t.find_optimal_lm_mod(X, y, cutoffs)\n",
        "\n",
        "    return r2_scores_test, r2_scores_train, lm_model, X_train, X_test, y_train, y_test\n",
        "\n",
        "r2_scores_test_boston, r2_scores_train_boston, lm_model_boston, X_train_boston, X_test_boston, y_train_boston, y_test_boston = train_model(df_boston)\n",
        "r2_scores_test_seattle, r2_scores_train_seattle, lm_model_seattle, X_train_seattle, X_test_seattle, y_train_seattle, y_test_seattle = train_model(df_seattle)"
      ],
      "metadata": {
        "id": "N8klnK0sJaPZ"
      },
      "execution_count": null,
      "outputs": []
    },
    {
      "cell_type": "markdown",
      "source": [
        "#Section 5: Evaluation"
      ],
      "metadata": {
        "id": "pdAx6pq8Joan"
      }
    },
    {
      "cell_type": "markdown",
      "source": [
        "**Question 1**: What is the correlation between the following values: 'price', 'cleaning_fee', 'review_scores_location', 'review_scores_value', 'accommodates', 'bathrooms', 'bedrooms'?"
      ],
      "metadata": {
        "id": "YMyWhJPUOo5j"
      }
    },
    {
      "cell_type": "markdown",
      "source": [
        "This function alows us to plot a heatmap visualizing the correlation between a list of columns. With a theoretical range of -1 to 1 the numbers in the resulting heatmap indicate how two variables correlate. A value of 1 would indicate perfect positive correlation meaning a doubling of variable x results in a doubling of variable y. A value close to 0 indicates little to no correlation."
      ],
      "metadata": {
        "id": "frOyrNkKm3Go"
      }
    },
    {
      "cell_type": "code",
      "source": [
        "# show heatmap of correlation between a subset of columns \n",
        "def plot_hist_and_heatmap(df, col_list):\n",
        "    # select subset of data\n",
        "    df = df[col_list]\n",
        "    # create heatmap\n",
        "    sns.heatmap(df.corr(), annot=True, fmt=\".2f\")\n",
        "    \n",
        "plot_hist_and_heatmap(df_boston, ['price', 'cleaning_fee', 'number_of_reviews', 'review_scores_rating', 'accommodates', 'bathrooms', 'bedrooms'])"
      ],
      "metadata": {
        "id": "UhNJT9pZHDuz"
      },
      "execution_count": null,
      "outputs": []
    },
    {
      "cell_type": "markdown",
      "source": [
        "![Heatmap showing the correlation between different variables for the Bosten dataset](./images/Figure_1.png)\n",
        "\n",
        "There seems to be a clear positiv correlation between a listing's price and cleaning fees. Furthermore, unsurprisingly, the number of people a listing accommodates as well as the number of bathrooms and bedrooms show a positive correlation with the price as well as with each other. This is not a create surprise as you would expect listings that accommodate more people to be more expensive and require more bath- and bedrooms. The review score of a listing shows a positive correlation with its location score. This again is not too surprising since the location score is a major factor of the overall listing score. However, there seems to be no clear correlation between location and overall review score and any other of the values, in particular not the price of the listing. This is somewhat surprising and you could have imagined more expensive listings to receive better review scores or at the very least better location scores."
      ],
      "metadata": {
        "id": "vRDLNNa9kyu5"
      }
    },
    {
      "cell_type": "markdown",
      "source": [
        "**Question 2**: Which of the following variables has the strongest correlation with the listing price: 'room_type', 'accommodates', 'bathrooms', 'bedrooms', 'host_is_superhost', 'beds', 'bed_type', 'cleaning_fee', 'cancellation_policy', 'review_scores_value', 'review_scores_location', 'host_identity_verified'?"
      ],
      "metadata": {
        "id": "oXjm8ecDhZzz"
      }
    },
    {
      "cell_type": "markdown",
      "source": [
        "This function is used to list the top x coefficients of a given lm model. Since the data for our model was normalized (as part of the Udacity provided find_optimal_lm_mod function used earlier) the resulting values list of coefficients represents the input variables with the greatest correlation to the output/predicted variable (in our case this would be the listing price). The sign of the coefs column indicates positive or negative correlation.  "
      ],
      "metadata": {
        "id": "HYObg57onBiG"
      }
    },
    {
      "cell_type": "code",
      "source": [
        "# extract coefs from lm model an show top results\n",
        "def print_coeffs(lm_model, X_train, top_x_results = 10):\n",
        "\n",
        "    # look at model coefficients\n",
        "    coefs_df = pd.DataFrame()\n",
        "    coefs_df['est_int'] = X_train.columns\n",
        "    coefs_df['coefs'] = lm_model.coef_\n",
        "    coefs_df['abs_coefs'] = np.abs(lm_model.coef_)\n",
        "    coefs_df = coefs_df.sort_values('abs_coefs', ascending=False)\n",
        "\n",
        "    coefs_df.head(top_x_results)\n",
        "\n",
        "print_coeffs(lm_model_boston, X_train_boston)"
      ],
      "metadata": {
        "id": "1FKuUTW_hl45"
      },
      "execution_count": null,
      "outputs": []
    },
    {
      "cell_type": "markdown",
      "source": [
        "| BOSTON |                                         |            |           |\n",
        "|--------|-----------------------------------------|------------|-----------|\n",
        "|        | est_int                                 | coefs      | abs_coefs |\n",
        "| 9      | **room_type_Private room**              | -80.361940 | 80.361940 |\n",
        "| 10     | **room_type_Shared room**               | -73.584597 | 73.584597 |\n",
        "| 14     | **cancellation_policy_super_strict_30** | 72.254277  | 72.254277 |\n",
        "| 2      | **bedrooms**                            | 37.644407  | 37.644407 |\n",
        "| 1      | **bathrooms**                           | 35.593966  | 35.593966 |\n",
        "| 11     | **bed_type_Real Bed**                   | 18.405890  | 18.405890 |\n",
        "| 7      | **review_scores_location**              | 18.043700  | 18.043700 |\n",
        "| 12     | **cancellation_policy_moderate**        | 13.164053  | 13.164053 |\n",
        "| 6      | **review_scores_value**                 | -6.267840  | 6.267840  |\n",
        "| 4      | **beds**                                | 5.188895   | 5.188895  |\n",
        "\n",
        "Strong negative correlation can be seen with the listing type where anything other than the whole house/apt option pulls the price down significantly. Somewhat surprisingly, a super strict cancellation policy in in Boston is the first non room type related variable on the list. Extremely high priced listings in Boston seem to be very strict with their cancellation policy, possibly to avoid hoax bookings or an unreasonably high cancerllation rate for these kind of rentals. Further findings in this list support the earlier findings of the heatmaps that number of accomodated people as well as number of beds, bedrooms and bathrooms all correlate positively with price and are among the top ten."
      ],
      "metadata": {
        "id": "p0XDUWZplIEI"
      }
    },
    {
      "cell_type": "markdown",
      "source": [
        "**Question 3**: Compare the results of questions 1 and 2 between Bosten and Seattle to look for interesting similarities/differences?"
      ],
      "metadata": {
        "id": "VriJ1l6ehtpU"
      }
    },
    {
      "cell_type": "markdown",
      "source": [
        "Plot the heatmap for both cities to compare:"
      ],
      "metadata": {
        "id": "lRMHa8QViA6p"
      }
    },
    {
      "cell_type": "code",
      "source": [
        "plot_hist_and_heatmap(df_boston, ['price', 'cleaning_fee', 'number_of_reviews', 'review_scores_rating', 'accommodates', 'bathrooms', 'bedrooms'])\n",
        "plot_hist_and_heatmap(df_seattle, ['price', 'cleaning_fee', 'number_of_reviews', 'review_scores_rating', 'accommodates', 'bathrooms', 'bedrooms'])"
      ],
      "metadata": {
        "id": "TYiwSEEoh9nR"
      },
      "execution_count": null,
      "outputs": []
    },
    {
      "cell_type": "markdown",
      "source": [
        "\n",
        "**Heatmap showing the correlation between different variables for the Bosten dataset**\n",
        "\n",
        "![Heatmap showing the correlation between different variables for the Bosten dataset](./images/Figure_1.png)\n",
        "\n",
        "**Heatmap showing the correlation between different variables for the Seattle dataset**\n",
        "\n",
        "![Heatmap showing the correlation between different variables for the Seattle dataset](./images/Figure_2.png)\n",
        "\n",
        "Comparing the heatmaps for Boston and Seattle one can see an overall similar trend. There does however seem to be significantly stronger correlation between the location rating and the price in Boston compared to Seattle.\n"
      ],
      "metadata": {
        "id": "S-5qrD9LleQK"
      }
    },
    {
      "cell_type": "markdown",
      "source": [
        "Print the top 10 coefficients for both cities to compare:"
      ],
      "metadata": {
        "id": "vhG0wZKqiIZ4"
      }
    },
    {
      "cell_type": "code",
      "source": [
        "print('BOSTON')\n",
        "print_coeffs(lm_model_boston, X_train_boston)\n",
        "\n",
        "print('SEATTLE')\n",
        "print_coeffs(lm_model_seattle, X_train_seattle)"
      ],
      "metadata": {
        "id": "wxCpvoK6iPHC"
      },
      "execution_count": null,
      "outputs": []
    },
    {
      "cell_type": "markdown",
      "source": [
        "| BOSTON  |                                         |            |           |\n",
        "|---------|-----------------------------------------|------------|-----------|\n",
        "|         | est_int                                 | coefs      | abs_coefs |\n",
        "| 9       | **room_type_Private room**              | -80.361940 | 80.361940 |\n",
        "| 10      | **room_type_Shared room**               | -73.584597 | 73.584597 |\n",
        "| 14      | **cancellation_policy_super_strict_30** | 72.254277  | 72.254277 |\n",
        "| 2       | **bedrooms**                            | 37.644407  | 37.644407 |\n",
        "| 1       | **bathrooms**                           | 35.593966  | 35.593966 |\n",
        "| 11      | **bed_type_Real Bed**                   | 18.405890  | 18.405890 |\n",
        "| 7       | **review_scores_location**              | 18.043700  | 18.043700 |\n",
        "| 12      | **cancellation_policy_moderate**        | 13.164053  | 13.164053 |\n",
        "| 6       | **review_scores_value**                 | -6.267840  | 6.267840  |\n",
        "| 4       | **beds**                                | 5.188895   | 5.188895  |\n",
        "\n",
        "| SEATTLE |                                         |            |           |\n",
        "|---------|-----------------------------------------|------------|-----------|\n",
        "|         | est_int                                 | coefs      | abs_coefs |\n",
        "| 10      | **room_type_Shared room**               | -69.368033 | 69.368033 |\n",
        "| 9       | **room_type_Private room**              | -38.917639 | 38.917639 |\n",
        "| 2       | **bedrooms**                            | 28.415771  | 28.415771 |\n",
        "| 1       | **bathrooms**                           | 26.916930  | 26.916930 |\n",
        "| 7       | **review_scores_location**              | 14.234777  | 14.234777 |\n",
        "| 13      | **cancellation_policy_moderate**        | -6.406348  | 6.406348  |\n",
        "| 0       | **accommodates**                        | 6.334792   | 6.334792  |\n",
        "| 6       | **review_scores_value**                 | -4.474419  | 4.474419  |\n",
        "| 11      | **bed_type_Futon**                      | 3.574835   | 3.574835  |\n",
        "| 14      | **cancellation_policy_strict**          | -2.415319  | 2.415319  |\n",
        "\n",
        "In the top ten variables correlating with price we again see similarties with any room type other than whole house/apt showing the strongest negative correlation with price in both cities. Somewhat surprisingly, a super strict cancellation policy in in Boston is the first non room type related variable on the list while it does not show up in Seattle at all. Extremely high priced listings in Boston seem to be very strict with their cancellation policy, possibly to avoid hoax bookings or an unreasonably high cancerllation rate for these kind of rentals. However, why this is not the case in Seattle I am not 100% clear. Further findings in this list support the earlier findings of the heatmaps that number of accomodated people as well as number of beds, bedrooms and bathrooms all correlate positively with price and are among the top ten in both cities."
      ],
      "metadata": {
        "id": "vLCmXdublsBg"
      }
    }
  ]
}
